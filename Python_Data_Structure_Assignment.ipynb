{
  "nbformat": 4,
  "nbformat_minor": 0,
  "metadata": {
    "colab": {
      "provenance": []
    },
    "kernelspec": {
      "name": "python3",
      "display_name": "Python 3"
    },
    "language_info": {
      "name": "python"
    }
  },
  "cells": [
    {
      "cell_type": "markdown",
      "source": [
        "#Python-Data Structure Theory Question\n",
        "\n"
      ],
      "metadata": {
        "id": "ZN5dNl1fnRLJ"
      }
    },
    {
      "cell_type": "markdown",
      "source": [
        "#Q1:- What are data structures, and why are they important?\n",
        "Ans:- Data structure are wayS of organizing and storing data in a computer, so that can be easilly accessed and modified efficiently.\n",
        "\n",
        "It is more important:\n",
        "\n",
        "\n",
        "1. They make the code more efficient.\n",
        "2. They make simplily data manipulation.\n",
        "3. They make the code easier to understand.\n",
        "\n",
        "#Q2:-   Explain the difference between mutable and immutable data types with examples?\n",
        "Ans:- Mutable data types in which data can be modified by adding and removing the element. Example: Set, list and dictonaries.\n",
        "\n",
        "Immutable data type in which data can't be modifed by ading and removing the element. Example: Tuple and string.\n",
        "\n",
        "#Q3:- What are the main differences between lists and tuples in Python?\n",
        "Ans:- Lists are mutable which means the values are editable even after the list is being created, where as, Tuples are immutable which means tuples cannot be modified by adding or removing element.\n",
        "\n",
        "#Q4:- Describe how dictionaries store data?\n",
        "Ans:- Dictionaries are key-value pairs that allow you to store and retrieve data based on a 'unique key'. The keys must be immutable or unique, such as strings or numbers. Dictionaries are useful for storing data that needs to be accessed quickly and efficiently.\n",
        "\n",
        "Example: dict = {\"Name\":\"Abhinav\", \"Age\":\"21\", \"Gender\":\"Male\"}\n",
        "\n",
        "#Q5:- Why might you use a set instead of a list in Python?\n",
        "Ans:- We use Set when we want the content should be unique and order of content doesn't matter, while List is used when we need to maintain the order of elements and allow duplicates.\n",
        "\n",
        "#Q6:- What is a string in Python, and how is it different from a list?\n",
        "Ans:- String is sequences of data and it is different from list because string is immutable data type while list is mutable data type. String always contain in single and doube quotes('', \"\").\n",
        "\n",
        "#Q7:- How do tuples ensure data integrity in Python?\n",
        "Ans:- Tuple are immutable data type that ensure that the content remains constant. which means in tuple data is unchange.\n",
        "\n",
        "#Q8:-What is a hash table, and how does it relate to dictionaries in Python?\n",
        "Ans:- A Hash Table in Python is a data structure where data is stored in an proper manner and data is stored in an array format, with every data value having an exclusive or unique index value.\n",
        "\n",
        "#Q9:- Can lists contain different data types in Python?\n",
        "Ans:- Yes, list contain different data types like String, Integer, Boolean,etc.\n",
        "\n",
        "#Q10:- Explain why strings are immutable in Python?\n",
        "Ans:- A string is assigned to the variable the value that cannot be change and modified.\n",
        "\n",
        "#Q11:- What advantages do dictionaries offer over lists for certain tasks?\n",
        "Ans:- The dictionaries stores data as key value pair which helps in retreving the data more effectively.\n",
        "\n",
        "where as in lists the data retreiving the index postion has to be given for getting the data fromn the list while in dictionaries the retreving of data by using the key.\n",
        "\n",
        "#Q12:- Describe a scenario where using a tuple would be preferable over a list?\n",
        "Ans:- Tuple is used in the scenario where the data remain unchange. Example: id, rollno. , registration no. , etc.\n",
        "\n",
        "#Q13:- How do sets handle duplicate values in Python?\n",
        "Ans:- Set is used to remove the duplicate value in python.\n",
        "\n",
        "Example:  set = {1,2,3,4,5,1,2,3,6,}\n",
        "          print(set)\n",
        "#Q14:- How does the “in” keyword work differently for lists and dictionaries?\n",
        "Ans:- \"in\" keyword is used in list to check wheather the element is present or not in list.\n",
        "\n",
        "Example:  my_list = [10,20,30,40]\n",
        "          print(\"10\" in my_list)\n",
        "\n",
        "while \"in\" operator in dictonaries are used in zip function it tells you whether something appears or not as a key in the dictionary\n",
        "\n",
        "Example: my_dict = {\"a\":\"1\", \"b\":\"2\",\"c\":\"3\"}\n",
        "         print(\"a\" in my_dict)\n",
        "\n",
        "#Q15:- Can you modify the elements of a tuple? Explain why or why not?\n",
        "Ans:- No, we can not add, remove or modify the elements of a tuple once it is created , because the tuples are immutable data type and once the value being assigned it cannot be modified.\n",
        "\n",
        "#Q16:- What is a nested dictionary, and give an example of its use case?\n",
        "Ans:- In python, nested dictinonary is dictionary inside dictionary. It is a collection of dictionaries into one single dictionary.\n",
        "\n",
        "It is used in cases are :\n",
        " . Offices\n",
        "\n",
        " . Restaurants\n",
        "\n",
        " . schools\n",
        "\n",
        " . companies\n",
        "\n",
        " Example: Student = {\n",
        "    \"student1\": {\"name\": \"Abhinav\", \"age\": 21, \"grade\": \"A\"},\n",
        "    \"student2\": {\"name\": \"Ankit\", \"age\": 24, \"grade\": \"B\"},\n",
        "}\n",
        "\n",
        "#Q17:- Describe the time complexity of accessing elements in a dictionary?\n",
        "Ans:- The time complexity of accessing the element in python is on average O(1),\n",
        "which means that the time it take to retrieve an element is constant, regardless of the size of the dictionary.\n",
        "\n",
        "#Q18:- In what situations are lists preferred over dictionaries?\n",
        "Ans:-\n",
        "      1. If you need an ordered collection, like a sequence of user actions, then lists are useful. On the other hand, when you need quick look-ups to user data, dictionaries are invaluable.\n",
        "      \n",
        "  2. Elements from the list can be accessed using the index, while the elements of the dictionary can be accessed using keys.\n",
        "\n",
        "#Q19:- Why are dictionaries considered unordered, and how does that affect data retrieval?\n",
        "Ans:- Dictionary is a data structure which is a important value structure, optimized for fast storage and recovery based on key. In python, dictionaries are unordered because Python dictionaries are not programmed to be in order, as simple as that.\n",
        "\n",
        "#Q20:- Explain the difference between a list and a dictionary in terms of data retrieval?\n",
        "Ans:- List is a ordered collection of data whereas a dictionary is a unordered collection of data with key-value pair. In list we can access the element using indexing that starting from zero while in a dictionary we can access the element by using the key.\n"
      ],
      "metadata": {
        "id": "Wz1_7LS8n9G9"
      }
    },
    {
      "cell_type": "code",
      "source": [
        "#Practical Question\n",
        "'''\n",
        "Q1: Write a code to create a string with your name and print it?\n",
        "\n",
        "Ans:\n",
        "\n",
        "'''\n",
        "name = \"Bhuvan\"\n",
        "print(\"My name is :\", name)"
      ],
      "metadata": {
        "colab": {
          "base_uri": "https://localhost:8080/"
        },
        "id": "ba_K1j0q8d9u",
        "outputId": "2c9d7b9d-f9ba-4e6d-a853-35f6228b919a"
      },
      "execution_count": 1,
      "outputs": [
        {
          "output_type": "stream",
          "name": "stdout",
          "text": [
            "My name is : Bhuvan\n"
          ]
        }
      ]
    },
    {
      "cell_type": "code",
      "source": [
        "#Practical Question\n",
        "'''\n",
        "Q2: Write a code to find the length of the string \"Hello World\"?\n",
        "\n",
        "Ans:\n",
        "\n",
        "'''\n",
        "string = \"Hello World\"\n",
        "print(\"The length of the string is :\", len(string))"
      ],
      "metadata": {
        "colab": {
          "base_uri": "https://localhost:8080/"
        },
        "id": "hdnPIl4H9Hme",
        "outputId": "906a7abb-e5d2-4e8f-e16a-d09ce60a61aa"
      },
      "execution_count": null,
      "outputs": [
        {
          "output_type": "stream",
          "name": "stdout",
          "text": [
            "The length of the string is : 11\n"
          ]
        }
      ]
    },
    {
      "cell_type": "code",
      "source": [
        "#Practical Question\n",
        "'''\n",
        "Q3: Write a code to slice the first 3 characters from the string \"Python Programming\"?\n",
        "\n",
        "Ans\n",
        "\n",
        "'''\n",
        "string = \"Python Programming\"\n",
        "print(\"The first 3 characters from the string is : \",string[0:3])"
      ],
      "metadata": {
        "colab": {
          "base_uri": "https://localhost:8080/"
        },
        "id": "zBYjAyeD9rYM",
        "outputId": "eb49be02-ddb4-4e84-f950-553c46382923"
      },
      "execution_count": null,
      "outputs": [
        {
          "output_type": "stream",
          "name": "stdout",
          "text": [
            "The first 3 characters from the string is :  Pyt\n"
          ]
        }
      ]
    },
    {
      "cell_type": "code",
      "source": [
        "#Practical Question\n",
        "'''\n",
        "Q4: Write a code to convert the string \"hello\" to uppercase?\n",
        "\n",
        "Ans:\n",
        "\n",
        "'''\n",
        "string = \"hello\"\n",
        "print(\"The string in uppercase is :\", string.upper())"
      ],
      "metadata": {
        "colab": {
          "base_uri": "https://localhost:8080/"
        },
        "id": "6WusaiH_9_DA",
        "outputId": "105cd7dc-0286-4a3f-e14d-1074ef2fdbe3"
      },
      "execution_count": null,
      "outputs": [
        {
          "output_type": "stream",
          "name": "stdout",
          "text": [
            "The string in uppercase is : HELLO\n"
          ]
        }
      ]
    },
    {
      "cell_type": "code",
      "source": [
        "#Practical Question\n",
        "'''\n",
        "Q5:  Write a code to replace the word \"apple\" with \"orange\" in the string \"I like apple\"?\n",
        "\n",
        "Ans:\n",
        "\n",
        "'''\n",
        "string = \"I like apple\"\n",
        "print(\"The string after replacing the word is :\", string.replace(\"apple\", \"orange\"))\n"
      ],
      "metadata": {
        "colab": {
          "base_uri": "https://localhost:8080/"
        },
        "id": "X93OYFZD-gTh",
        "outputId": "f9988813-f09d-45be-a674-509b37378dc6"
      },
      "execution_count": null,
      "outputs": [
        {
          "output_type": "stream",
          "name": "stdout",
          "text": [
            "The string after replacing the word is : I like orange\n"
          ]
        }
      ]
    },
    {
      "cell_type": "code",
      "source": [
        "#Practical Question\n",
        "'''\n",
        "Q6: Write a code to create a list with numbers 1 to 5 and print it?\n",
        "\n",
        "Ans:\n",
        "\n",
        "'''\n",
        "my_list = range(1,6)\n",
        "print(\"The list is :\", list(my_list))"
      ],
      "metadata": {
        "colab": {
          "base_uri": "https://localhost:8080/"
        },
        "id": "R5PJYrpr-1qO",
        "outputId": "6515fc0a-9379-445b-cef4-3d5e3d9ab274"
      },
      "execution_count": null,
      "outputs": [
        {
          "output_type": "stream",
          "name": "stdout",
          "text": [
            "The list is : [1, 2, 3, 4, 5]\n"
          ]
        }
      ]
    },
    {
      "cell_type": "code",
      "source": [
        "#Practical Question\n",
        "'''\n",
        "Q7: Write a code to append the number 10 to the list [1, 2, 3, 4]?\n",
        "\n",
        "Ans:\n",
        "\n",
        "'''\n",
        "my_list = [1,2,3,4]\n",
        "my_list.append(10)\n",
        "print(\"The list after appending the number is :\", my_list)"
      ],
      "metadata": {
        "colab": {
          "base_uri": "https://localhost:8080/"
        },
        "id": "bOVf5Tzf_XJW",
        "outputId": "37fd74fc-2b48-4ef2-d954-657e974440ce"
      },
      "execution_count": null,
      "outputs": [
        {
          "output_type": "stream",
          "name": "stdout",
          "text": [
            "The list after appending the number is : [1, 2, 3, 4, 10]\n"
          ]
        }
      ]
    },
    {
      "cell_type": "code",
      "source": [
        "#Practical Question\n",
        "'''\n",
        "Q8: Write a code to remove the number 3 from the list [1, 2, 3, 4, 5]?\n",
        "\n",
        "Ans:\n",
        "\n",
        "'''\n",
        "my_list = [1,2,3,4,5]\n",
        "my_list.remove(3)\n",
        "print(\"The list after removing the number is :\", my_list)"
      ],
      "metadata": {
        "colab": {
          "base_uri": "https://localhost:8080/"
        },
        "id": "mB2HYiEbBs8T",
        "outputId": "2f70d51d-86c7-4d2f-bb4d-5680d0c5392e"
      },
      "execution_count": null,
      "outputs": [
        {
          "output_type": "stream",
          "name": "stdout",
          "text": [
            "The list after removing the number is : [1, 2, 4, 5]\n"
          ]
        }
      ]
    },
    {
      "cell_type": "code",
      "source": [
        "#Practical Question\n",
        "'''\n",
        "Q9: Write a code to access the second element in the list ['a', 'b', 'c', 'd']?\n",
        "\n",
        "Ans:\n",
        "\n",
        "\n",
        "'''\n",
        "my_list = ['a', 'b', 'c', 'd']\n",
        "print(\"The second element in the list is :\", my_list[1])"
      ],
      "metadata": {
        "colab": {
          "base_uri": "https://localhost:8080/"
        },
        "id": "lw_IdryXB-_u",
        "outputId": "12f964cf-67e2-4bd5-f1c1-db120e1b6ab3"
      },
      "execution_count": null,
      "outputs": [
        {
          "output_type": "stream",
          "name": "stdout",
          "text": [
            "The second element in the list is : b\n"
          ]
        }
      ]
    },
    {
      "cell_type": "code",
      "source": [
        "#Practical Question\n",
        "'''\n",
        "Q10: Write a code to reverse the list [10, 20, 30, 40, 50]?\n",
        "\n",
        "Ans:\n",
        "\n",
        "'''\n",
        "my_list = [10,20,30,40,50]\n",
        "print(\"The list after reversing is :\", my_list[::-1])\n"
      ],
      "metadata": {
        "colab": {
          "base_uri": "https://localhost:8080/"
        },
        "id": "yyyWv1hgCOJt",
        "outputId": "e83f6b3b-f274-4f4b-9737-f63404276001"
      },
      "execution_count": null,
      "outputs": [
        {
          "output_type": "stream",
          "name": "stdout",
          "text": [
            "The list after reversing is : [50, 40, 30, 20, 10]\n"
          ]
        }
      ]
    },
    {
      "cell_type": "code",
      "source": [
        "#Practical Question\n",
        "'''\n",
        "Q11: Write a code to create a tuple with the elements 100, 200, 300 and print it?\n",
        "\n",
        "Ans:\n",
        "\n",
        "'''\n",
        "my_tuple = (100,200,300)\n",
        "print(\"The tuple is :\", my_tuple)"
      ],
      "metadata": {
        "colab": {
          "base_uri": "https://localhost:8080/"
        },
        "id": "Xfui9IYGCdxd",
        "outputId": "3722e1bd-feb6-4bb4-a0db-9d866d42416c"
      },
      "execution_count": null,
      "outputs": [
        {
          "output_type": "stream",
          "name": "stdout",
          "text": [
            "The tuple is : (100, 200, 300)\n"
          ]
        }
      ]
    },
    {
      "cell_type": "code",
      "source": [
        "#Practical Question\n",
        "'''\n",
        "Q12: Write a code to access the second-to-last element of the tuple ('red', 'green', 'blue', 'yellow')?\n",
        "\n",
        "Ans:\n",
        "\n",
        "'''\n",
        "my_tuple = ('red', 'green', 'blue', 'yellow')\n",
        "print(\"The second-to-last element of the tuple is :\", my_tuple[-2])"
      ],
      "metadata": {
        "colab": {
          "base_uri": "https://localhost:8080/"
        },
        "id": "q9h1IcHOCuSq",
        "outputId": "e391408e-5467-4b1d-b4d0-bec89f87789f"
      },
      "execution_count": null,
      "outputs": [
        {
          "output_type": "stream",
          "name": "stdout",
          "text": [
            "The second-to-last element of the tuple is : blue\n"
          ]
        }
      ]
    },
    {
      "cell_type": "code",
      "source": [
        "#Practical Question\n",
        "'''\n",
        "Q13: Write a code to find the minimum number in the tuple (10, 20, 5, 15)?\n",
        "\n",
        "Ans:\n",
        "\n",
        "'''\n",
        "my_tuple = (10,20,5,15)\n",
        "print(\"The minimum number in the tuple is :\", min(my_tuple))\n"
      ],
      "metadata": {
        "colab": {
          "base_uri": "https://localhost:8080/"
        },
        "id": "u5T8VfX1C9ZR",
        "outputId": "15785e9d-776b-454e-a912-618cf87f5b6f"
      },
      "execution_count": null,
      "outputs": [
        {
          "output_type": "stream",
          "name": "stdout",
          "text": [
            "The minimum number in the tuple is : 5\n"
          ]
        }
      ]
    },
    {
      "cell_type": "code",
      "source": [
        "#Practical Question\n",
        "'''\n",
        "Q14: Write a code to find the index of the element \"cat\" in the tuple ('dog', 'cat', 'rabbit')?\n",
        "\n",
        "Ans:\n",
        "\n",
        "'''\n",
        "my_tuple = ('dog', 'cat', 'rabbit')\n",
        "print(\"The index of the element is :\", my_tuple.index('cat'))"
      ],
      "metadata": {
        "colab": {
          "base_uri": "https://localhost:8080/"
        },
        "id": "FY3Vxs6MDKU8",
        "outputId": "dbc5a832-1996-4b6a-d2c8-a53c8e0160b3"
      },
      "execution_count": null,
      "outputs": [
        {
          "output_type": "stream",
          "name": "stdout",
          "text": [
            "The index of the element is : 1\n"
          ]
        }
      ]
    },
    {
      "cell_type": "code",
      "source": [
        "#Practical Question\n",
        "'''\n",
        "Q15: Write a code to create a tuple containing three different fruits and check if \"kiwi\" is in it?\n",
        "\n",
        "Ans:\n",
        "\n",
        "'''\n",
        "my_tuple = (\"apple\", \"banana\", \"orange\")\n",
        "print(\"kiwi\" in my_tuple)"
      ],
      "metadata": {
        "colab": {
          "base_uri": "https://localhost:8080/"
        },
        "id": "u3zGNhR_Dij7",
        "outputId": "e8f74697-e19d-4d5d-ba9d-2c4d14907328"
      },
      "execution_count": null,
      "outputs": [
        {
          "output_type": "stream",
          "name": "stdout",
          "text": [
            "False\n"
          ]
        }
      ]
    },
    {
      "cell_type": "code",
      "source": [
        "#Practical Question\n",
        "'''\n",
        "Q16: Write a code to create a set with the elements 'a', 'b', 'c' and print it?\n",
        "\n",
        "Ans:\n",
        "\n",
        "'''\n",
        "my_set = {1, 2, 3, 4}\n",
        "print(\"The set is :\", my_set)"
      ],
      "metadata": {
        "colab": {
          "base_uri": "https://localhost:8080/"
        },
        "id": "n6bC1QJrD0P-",
        "outputId": "7f2c7c36-f9d3-4afe-f756-d47c802f7c72"
      },
      "execution_count": null,
      "outputs": [
        {
          "output_type": "stream",
          "name": "stdout",
          "text": [
            "The set is : {1, 2, 3, 4}\n"
          ]
        }
      ]
    },
    {
      "cell_type": "code",
      "source": [
        "#Practical Question\n",
        "'''\n",
        "Q17: Write a code to clear all elements from the set {1, 2, 3, 4, 5}?\n",
        "\n",
        "Ans:\n",
        "\n",
        "'''\n",
        "my_set = {1,2,3,4,5}\n",
        "my_set.clear()\n",
        "print(\"The set after clearing all elements is :\", my_set)"
      ],
      "metadata": {
        "colab": {
          "base_uri": "https://localhost:8080/"
        },
        "id": "V4Q2ylk6EW73",
        "outputId": "5100caca-60ae-4d1d-a240-d9b783fe3032"
      },
      "execution_count": null,
      "outputs": [
        {
          "output_type": "stream",
          "name": "stdout",
          "text": [
            "The set after clearing all elements is : set()\n"
          ]
        }
      ]
    },
    {
      "cell_type": "code",
      "source": [
        "#Practical Question\n",
        "'''\n",
        "Q18: Write a code to remove the element 4 from the set {1, 2, 3, 4}.\n",
        "\n",
        "Ans:\n",
        "\n",
        "'''\n",
        "my_set = {1,2,3,4}\n",
        "my_set.remove(4)\n",
        "print(\"The set after removing the element is :\", my_set)"
      ],
      "metadata": {
        "colab": {
          "base_uri": "https://localhost:8080/"
        },
        "id": "gvyGwL1HEy2T",
        "outputId": "4563ec5f-a763-41a4-d98a-60634ce8893c"
      },
      "execution_count": null,
      "outputs": [
        {
          "output_type": "stream",
          "name": "stdout",
          "text": [
            "The set after removing the element is : {1, 2, 3}\n"
          ]
        }
      ]
    },
    {
      "cell_type": "code",
      "source": [
        "#Practical Question\n",
        "'''\n",
        "Q19: Write a code to find the union of two sets {1, 2, 3} and {3, 4, 5}.\n",
        "\n",
        "Ans:\n",
        "\n",
        "'''\n",
        "set1 = {1,2,3}\n",
        "set2 = {3,4,5}\n",
        "print(\"The union of two sets is :\", set1.union(set2))"
      ],
      "metadata": {
        "colab": {
          "base_uri": "https://localhost:8080/"
        },
        "id": "S3p4gaeXFCg9",
        "outputId": "6786e188-0077-4bc6-e953-b6552bd3ccd3"
      },
      "execution_count": null,
      "outputs": [
        {
          "output_type": "stream",
          "name": "stdout",
          "text": [
            "The union of two sets is : {1, 2, 3, 4, 5}\n"
          ]
        }
      ]
    },
    {
      "cell_type": "code",
      "source": [
        "#Practical Question\n",
        "'''\n",
        "Q20: Write a code to find the intersection of two sets {1, 2, 3} and {2, 3, 4}.\n",
        "\n",
        "Ans:\n",
        "\n",
        "'''\n",
        "set1 = {1,2,3}\n",
        "set2 = {2,3,4}\n",
        "print(\"The intersection of two sets is :\", set1.intersection(set2))"
      ],
      "metadata": {
        "colab": {
          "base_uri": "https://localhost:8080/"
        },
        "id": "bygJ3_TiFRMQ",
        "outputId": "bd022666-1f3e-42e5-ffa3-fd6e963263eb"
      },
      "execution_count": null,
      "outputs": [
        {
          "output_type": "stream",
          "name": "stdout",
          "text": [
            "The intersection of two sets is : {2, 3}\n"
          ]
        }
      ]
    },
    {
      "cell_type": "code",
      "source": [
        "#Practical Question\n",
        "'''\n",
        "Q21: Write a code to create a dictionary with the keys \"name\", \"age\", and \"city\", and print it?\n",
        "\n",
        "Ans:\n",
        "\n",
        "'''\n",
        "my_dict = {\"name\":\"Bhuvan\", \"age\":21, \"city\":\"Etawah\"}\n",
        "print(\"The dictionary is :\", my_dict)"
      ],
      "metadata": {
        "colab": {
          "base_uri": "https://localhost:8080/"
        },
        "id": "JHMfPdSrFy-_",
        "outputId": "1a682c7f-7263-4b5b-956b-a2d51cbd18db"
      },
      "execution_count": 2,
      "outputs": [
        {
          "output_type": "stream",
          "name": "stdout",
          "text": [
            "The dictionary is : {'name': 'Bhuvan', 'age': 21, 'city': 'Etawah'}\n"
          ]
        }
      ]
    },
    {
      "cell_type": "code",
      "source": [
        "#Practical Question\n",
        "'''\n",
        "Q22: Write a code to add a new key-value pair \"country\": \"USA\" to the dictionary {'name': 'John', 'age': 25}.\n",
        "\n",
        "Ans:\n",
        "\n",
        "'''\n",
        "my_dict = {'name': 'John', 'age': 25}\n",
        "my_dict[\"country\"] = \"USA\"\n",
        "print(my_dict)"
      ],
      "metadata": {
        "colab": {
          "base_uri": "https://localhost:8080/"
        },
        "id": "4hTQ9ZSQGNtI",
        "outputId": "9b75e49f-269b-4d31-a57a-8c02b8e770b2"
      },
      "execution_count": null,
      "outputs": [
        {
          "output_type": "stream",
          "name": "stdout",
          "text": [
            "{'name': 'John', 'age': 25, 'country': 'USA'}\n"
          ]
        }
      ]
    },
    {
      "cell_type": "code",
      "source": [
        "#Practical Question\n",
        "'''\n",
        "Q23: Write a code to access the value associated with the key \"name\" in the dictionary {'name': 'Alice', 'age': 30}.\n",
        "\n",
        "Ans:\n",
        "\n",
        "'''\n",
        "my_dict = {'name':'Alice', 'age':30}\n",
        "print(\"The value associated with the key is :\", my_dict[\"name\"])"
      ],
      "metadata": {
        "colab": {
          "base_uri": "https://localhost:8080/"
        },
        "id": "qePz6uowGs8z",
        "outputId": "5bea11ae-9ba3-4e53-ce02-44fec40205d8"
      },
      "execution_count": null,
      "outputs": [
        {
          "output_type": "stream",
          "name": "stdout",
          "text": [
            "The value associated with the key is : Alice\n"
          ]
        }
      ]
    },
    {
      "cell_type": "code",
      "source": [
        "#Practical Question\n",
        "'''\n",
        "Q24: Write a code to remove the key \"age\" from the dictionary {'name': 'Bob', 'age': 22, 'city': 'New York'}.\n",
        "\n",
        "Ans:\n",
        "\n",
        "'''\n",
        "my_dict = {'name': 'Bob', 'age': 22, 'city': 'New York'}\n",
        "my_dict.pop(\"age\")\n",
        "print(\"The dictionary after removing the key is :\", my_dict)"
      ],
      "metadata": {
        "colab": {
          "base_uri": "https://localhost:8080/"
        },
        "id": "EPa3-iKnHGkY",
        "outputId": "51190d40-46e0-48f9-a1b8-29d0e215e2a8"
      },
      "execution_count": null,
      "outputs": [
        {
          "output_type": "stream",
          "name": "stdout",
          "text": [
            "The dictionary after removing the key is : {'name': 'Bob', 'city': 'New York'}\n"
          ]
        }
      ]
    },
    {
      "cell_type": "code",
      "source": [
        "#Practical Question\n",
        "'''\n",
        "Q25: Write a code to check if the key \"city\" exists in the dictionary {'name': 'Alice', 'city': 'Paris'}.\n",
        "\n",
        "Ans:\n",
        "\n",
        "'''\n",
        "my_dict = {'name': 'Alice', 'city': 'Paris'}\n",
        "print(\"The key exists in the dictionary :\", \"city\" in my_dict)"
      ],
      "metadata": {
        "colab": {
          "base_uri": "https://localhost:8080/"
        },
        "id": "mBnEhdN8H8WZ",
        "outputId": "d0e4fb78-7ef1-4e26-fa72-0fd6330851a7"
      },
      "execution_count": null,
      "outputs": [
        {
          "output_type": "stream",
          "name": "stdout",
          "text": [
            "The key exists in the dictionary : True\n"
          ]
        }
      ]
    },
    {
      "cell_type": "code",
      "source": [
        "#Practical Question\n",
        "'''\n",
        "Q26:  Write a code to create a list, a tuple, and a dictionary, and print them all.\n",
        "\n",
        "Ans:\n",
        "\n",
        "'''\n",
        "my_list = [1, 2, 3]\n",
        "my_tuple = (4, 5, 6)\n",
        "my_dict = {\"a\": 7, \"b\": 8, \"c\": 9}\n",
        "\n",
        "print(\"My list:\", my_list)\n",
        "print(\"My tuple:\", my_tuple)\n",
        "print(\"My dictionary:\", my_dict)"
      ],
      "metadata": {
        "colab": {
          "base_uri": "https://localhost:8080/"
        },
        "id": "s9clgXgYILIj",
        "outputId": "e69bfee7-0921-479b-a618-87b059406fbd"
      },
      "execution_count": null,
      "outputs": [
        {
          "output_type": "stream",
          "name": "stdout",
          "text": [
            "My list: [1, 2, 3]\n",
            "My tuple: (4, 5, 6)\n",
            "My dictionary: {'a': 7, 'b': 8, 'c': 9}\n"
          ]
        }
      ]
    },
    {
      "cell_type": "code",
      "source": [
        "#Practical Question\n",
        "'''\n",
        "Q27: Write a code to create a list of 5 random numbers between 1 and 100, sort it in ascending order, and print the\n",
        "result.(replaced).\n",
        "\n",
        "Ans:\n",
        "\n",
        "'''\n",
        "import random\n",
        "\n",
        "random_numbers = [random.randint(1, 100) for _ in range(5)]\n",
        "\n",
        "random_numbers.sort()\n",
        "\n",
        "print(\"The sorted list of random numbers is:\", random_numbers)"
      ],
      "metadata": {
        "colab": {
          "base_uri": "https://localhost:8080/"
        },
        "id": "cVfkVGgqIrTh",
        "outputId": "c41f52f1-a59f-4faa-fad4-fe5458b3925d"
      },
      "execution_count": null,
      "outputs": [
        {
          "output_type": "stream",
          "name": "stdout",
          "text": [
            "The sorted list of random numbers is: [31, 39, 80, 88, 95]\n"
          ]
        }
      ]
    },
    {
      "cell_type": "code",
      "source": [
        "#Practical Question\n",
        "'''\n",
        "Q28: Write a code to create a list with strings and print the element at the third index.\n",
        "\n",
        "Ans:\n",
        "\n",
        "'''\n",
        "my_list = [\"Abhinav\", \"Ankit\", \"Anupam\", \"Raj\", \"Neha\"]\n",
        "print(\"The element at the third index is:\", my_list[3])"
      ],
      "metadata": {
        "colab": {
          "base_uri": "https://localhost:8080/"
        },
        "id": "x_NwN3jzJI5b",
        "outputId": "a866078a-3756-44aa-d228-e897f847dce2"
      },
      "execution_count": null,
      "outputs": [
        {
          "output_type": "stream",
          "name": "stdout",
          "text": [
            "The element at the third index is: Raj\n"
          ]
        }
      ]
    },
    {
      "cell_type": "code",
      "source": [
        "#Practical Question\n",
        "'''\n",
        "Q29: Write a code to combine two dictionaries into one and print the result.\n",
        "\n",
        "Ans:\n",
        "\n",
        "'''\n",
        "dict1 = {\"a\": 1, \"b\": 2}\n",
        "dict2 = {\"c\": 3, \"d\": 4}\n",
        "\n",
        "combined_dict.update(dict2)\n",
        "\n",
        "print(\"The combined dictionary is:\", combined_dict)"
      ],
      "metadata": {
        "colab": {
          "base_uri": "https://localhost:8080/"
        },
        "id": "qioDR7d2JuyN",
        "outputId": "cf48a840-8e15-4a24-b0f8-6214de470382"
      },
      "execution_count": null,
      "outputs": [
        {
          "output_type": "stream",
          "name": "stdout",
          "text": [
            "The combined dictionary is: {'a': 1, 'b': 2, 'c': 3, 'd': 4}\n"
          ]
        }
      ]
    },
    {
      "cell_type": "code",
      "source": [
        "#Practical Question\n",
        "'''\n",
        "Q30: Write a code to convert a list of strings into a set.\n",
        "\n",
        "Ans:\n",
        "\n",
        "'''\n",
        "my_list = [\"apple\", \"banana\", \"orange\"]\n",
        "my_set = set(my_list)\n",
        "print(\"The set is:\", my_set)"
      ],
      "metadata": {
        "colab": {
          "base_uri": "https://localhost:8080/"
        },
        "id": "5pa6jIj6KXXO",
        "outputId": "c2289fbd-0f89-4019-87c8-2fe1868ec9e9"
      },
      "execution_count": null,
      "outputs": [
        {
          "output_type": "stream",
          "name": "stdout",
          "text": [
            "The set is: {'apple', 'banana', 'orange'}\n"
          ]
        }
      ]
    },
    {
      "cell_type": "code",
      "source": [],
      "metadata": {
        "id": "qWEL9z6IKnGh"
      },
      "execution_count": null,
      "outputs": []
    }
  ]
}